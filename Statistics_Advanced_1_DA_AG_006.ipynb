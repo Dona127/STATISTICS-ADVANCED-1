{
  "nbformat": 4,
  "nbformat_minor": 0,
  "metadata": {
    "colab": {
      "provenance": []
    },
    "kernelspec": {
      "name": "python3",
      "display_name": "Python 3"
    },
    "language_info": {
      "name": "python"
    }
  },
  "cells": [
    {
      "cell_type": "markdown",
      "source": [
        "\n",
        "\n",
        "# PRACTICAL"
      ],
      "metadata": {
        "id": "pO0ETGeIu2Gv"
      }
    },
    {
      "cell_type": "markdown",
      "source": [
        "**Q1. What is a random variable in probability theory?**\n",
        "\n",
        "**Ans:** In probability theory, a random variable is a variable whose possible values are determined by the outcome of a **random experiment**.\n",
        "It converts outcomes (like tossing a coin or rolling a dice) into **numerical values.** It helps us calculate probabilities and analyze data more easily.\n"
      ],
      "metadata": {
        "id": "Hb4oWpgXi7Oc"
      }
    },
    {
      "cell_type": "markdown",
      "source": [
        "**Q2. What are the types of random variables?**\n",
        "\n",
        "**Ans:** In probability theory, random variables are mainly classified into **two types** based on the nature of the values they can take:\n",
        "\n",
        " **1. DISCRETE RANDOM VARIABLE**:A discrete random variable takes **countable** or **finite** values.\n",
        "* Values can be listed or **counted**.\n",
        "* Probabilities are described using a Probability Mass Function (PMF).\n",
        "* The sum of all probability = **1**\n",
        "* Graphical representation: **Bar graph or stem plot.**\n",
        "\n",
        "**2. CONTINUOUS RANDOM VARIABLE**:\n",
        "A continuous random variable takes **uncountably infinite values** within a given range.\n",
        "* Values **cannot be counted**; they come from an interval.\n",
        "* Probabilities are described using a Probability Density Function (PDF).\n",
        "* The probability of getting n exact value is **0**.\n",
        "* Graphical representation: **Smooth curve.**\n",
        "\n"
      ],
      "metadata": {
        "id": "w5BRlzsSjNKk"
      }
    },
    {
      "cell_type": "markdown",
      "source": [
        "**Q3. Explain the difference between discrete and continuous distributions.**\n",
        "\n",
        "**Ans:** The difference between discrete and continuous distribution are as follows:\n",
        "\n",
        "**DISCRETE DISTRIBUTION:**\n",
        "* It deals with **discrete random variable**.\n",
        "* The values are finite or **countable values** in discrete distribution.\n",
        "* It is represented using **Probability Mass Function (PMF)**.\n",
        "* The sum of all probabilities **= 1**.\n",
        "* Graphical representation: **Bar graph**\n",
        "\n",
        "**CONTINUOUS DISTRIBUTION:**\n",
        "* It deals with **continuous random variables**.\n",
        "* The values are infinite and **uncontable values** with an interval.\n",
        "* It is represented using **Probability Density Function (PDF).**\n",
        "* The probability of any exact value **= 0**.\n",
        "* Graphical representation: **Smooth curve**"
      ],
      "metadata": {
        "id": "0_5nYGmTjV0I"
      }
    },
    {
      "cell_type": "markdown",
      "source": [
        "**Q4. What is a binomial distribution, and how is it used in probability?**\n",
        "\n",
        "**Ans:** A binommial distribution is a discrete probability distribution that describes the probability of getting a fixed number of successes in a fixed number of independent trials, when each trial has only two possible outcomes: either success or failure.\n",
        "\n",
        "The binomial distribution is widely used in probability and statistics:\n",
        "* There is a fixed number of trials, denoted by n.\n",
        "* Each trial is independent of the others.\n",
        "* There are only two possible outcomes for each trial: \"success\" or \"failure\".\n",
        "* The probability of success is denoted by p, is constant for every trial.\n",
        "\n",
        "If these conditions are satisfied, we can use the binomial formula to calculate probabilities.\n"
      ],
      "metadata": {
        "id": "LMbrJFatjdtk"
      }
    },
    {
      "cell_type": "markdown",
      "source": [
        "**Q5. What is the standard normal distribution, and why is it important?**\n",
        "\n",
        "**Ans:** The standard normal distribution is a special type of normal distribution in which the** mean (μ) is 0** and the **standard deviation (σ) is 1.** It is represented by the variable Z and is also called the Z-distribution.\n",
        "\n",
        "Key properties:\n",
        "* Symmetrical about the mean (0).\n",
        "* Bell-shaped curve.\n",
        "* Total area under the curve = 1.\n",
        "* Mean = Median = Mode = 0.\n",
        "* Standard deviation = 1.\n",
        "\n",
        "The standard normal distribution is important in probability and statistics because it simplifies calculations, forms the basis of many statistical methods, and helps in data analysis.\n",
        "\n",
        "* **Standardization:** Any normal distribution can be transformed into a standard normal distribution using the Z-score formula. It allows us to compare values from different normal distributions.\n",
        "\n",
        "* **Probaability Calculation:** Standard normal tables (Z-tables) or statistical software can be used to easily find the probability of a random variable falling within a certain range for any normal distribution once it's converted to the standard normal form. This simplifies probability calculations.\n",
        "\n",
        "* **Foundation for Inferential Statistics:** Many statistical hypothesis tests and confidence interval constructions rely on the properties of the standard normal distribution, especially due to the Central Limit Theorem.\n",
        "\n",
        "* **Simplicity and Universality:** Its fixed mean and standard deviation make it a universal reference point for understanding the spread and likelyhood of data points in a normal distribution."
      ],
      "metadata": {
        "id": "nmnqRFPAjniY"
      }
    },
    {
      "cell_type": "markdown",
      "source": [
        "**Q6. What is the Central Limit Theorem (CLT), and why is it critical in statistics?**\n",
        "\n",
        "**Ans:** The Central Limit Theorem (CLT) states that when a large number of independent random samples are taken from a population with a finite mean (𝜇) and finite variance (σ2), the sampling distribution of the sample means will approach a normal distribution, regardless of the shape of the original population, as the sample size becomes sufficiently large.  \n",
        "\n",
        "It is critical in statistics for several reasons:\n",
        "* CLT allows us to approximate any sampling distribution as a normal distribution.\n",
        "\n",
        "* CLT helps us make predictions about a population using sample data.\n",
        "\n",
        "* CLT is used in hypothesis testing such as Z-test, t_test and ANOVA.\n",
        "\n",
        "* CLT allows us to construct confidence intervals for population parameters, helping us estimate the range of true values with a given level of confidence.\n",
        "\n",
        "* Even if the original population is skewed, uniform, or bimodal, the sampling distribution of sample means becomes approximately normal as the sample size increases.\n"
      ],
      "metadata": {
        "id": "-Jvd1cGtjyko"
      }
    },
    {
      "cell_type": "markdown",
      "source": [
        "**Q7. What is the significance of confidence intervals in statistical analysis?**\n",
        "\n",
        "**Ans:** A confidence interval (CI) is a range of values, derived from sample data, that is likely to contain the true population parameter (e.g., mean or proportion) with a specified confidence level.\n",
        "\n",
        "The significance of confidence intervals in statistical analysis are as follows:\n",
        "* Confidence intervals give a range instead of a single value, making estimation more reliable.\n",
        "* Confidence intervals help decide whether to accept or reject hypotheses.\n",
        "* It is widely used in business, medicine, research, finance, and machine learning to make predictions and decisions based on sample data.\n",
        "\n",
        "\n"
      ],
      "metadata": {
        "id": "KoJMG2Xrj7ZM"
      }
    },
    {
      "cell_type": "markdown",
      "source": [
        "**Q8. What is the concept of expected value in a probability distribution?**\n",
        "\n",
        "**Ans:** The expected value (EV) is a measure of the central tendency of a probability distribution.\n",
        "It represents the long-term average outcome if an experiment is repeated many times under the same conditions. In other words, The expected value is the weighted average of all possible outcomes, where the weights are the probabilities of those outcomes.\n",
        "\n",
        "1. **For a discrete random variable X:**\n",
        "The expected value, denoted as E(X),is calculated as the sum of the products of each possible value and its corresponding probability: **E(X)**\n",
        "\n",
        "FORMULA:    E[X] = ∑xi​pi​\n",
        "\n",
        "EV is a weighted average of possible outcomes.\n",
        "\n",
        "2. **For a continuous random variable X:**\n",
        "The expected value, denoted as E(X), is calculated by integrating the product of each possible value and its probability density function (PDF) over the entire range of the variable: **E(X)**\n",
        "\n",
        "FORMULA:  E[X] = ∫xf(x)dx  \n",
        "\n",
        "EV is the \"center of mass\" of the distribution"
      ],
      "metadata": {
        "id": "qyCxMuxWkBiF"
      }
    },
    {
      "cell_type": "markdown",
      "source": [
        "**Q9. Write a Python program to generate 1000 random numbers from a normal\n",
        "distribution with mean = 50 and standard deviation = 5. Compute its mean and standard\n",
        "deviation using NumPy, and draw a histogram to visualize the distribution.**\n",
        "\n"
      ],
      "metadata": {
        "id": "Zk3M-JOtkJCk"
      }
    },
    {
      "cell_type": "code",
      "source": [
        "import numpy as np\n",
        "import matplotlib.pyplot as plt\n",
        "\n",
        "mean = 50\n",
        "std_dev = 5\n",
        "num_samples = 1000\n",
        "\n",
        "random_numbers = np.random.normal(mean, std_dev, num_samples)\n",
        "\n",
        "calculated_mean = np.mean(random_numbers)\n",
        "calculated_std_dev = np.std(random_numbers)\n",
        "\n",
        "print(\"Generated Data Statistics:\")\n",
        "print(f\"Calculated Mean: {calculated_mean:.2f}\")\n",
        "print(f\"Calculated Standard Deviation: {calculated_std_dev:.2f}\")\n",
        "\n",
        "\n",
        "plt.hist(random_numbers, bins=30, edgecolor='black', alpha=0.7)\n",
        "plt.title('Histogram of Random Numbers')\n",
        "plt.xlabel('Value')\n",
        "plt.ylabel('Frequency')\n",
        "plt.grid(True)\n",
        "plt.show()"
      ],
      "metadata": {
        "colab": {
          "base_uri": "https://localhost:8080/",
          "height": 524
        },
        "id": "KdkTKZItkgmd",
        "outputId": "2d5d3b37-6c99-40bd-e0aa-221b356e5302"
      },
      "execution_count": 2,
      "outputs": [
        {
          "output_type": "stream",
          "name": "stdout",
          "text": [
            "Generated Data Statistics:\n",
            "Calculated Mean: 49.91\n",
            "Calculated Standard Deviation: 4.85\n"
          ]
        },
        {
          "output_type": "display_data",
          "data": {
            "text/plain": [
              "<Figure size 640x480 with 1 Axes>"
            ],
            "image/png": "[encoded data removed]"
          },
          "metadata": {}
        }
      ]
    },
    {
      "cell_type": "markdown",
      "source": [
        "### **10. You are working as a data analyst for a retail company. The company has collected daily sales data for 2 years and wants you to identify the overall sales trend.**\n",
        "\n",
        "  **daily_sales = [220, 245, 210, 265, 230, 250, 260, 275, 240, 255, 235, 260, 245, 250, 225, 270, 265, 255, 250, 260]**\n",
        "\n",
        "* **Explain how you would apply the Central Limit Theorem to estimate the average sales with a 95% confidence interval.**\n",
        "\n",
        "\n",
        "* **Write the Python code to compute the mean sales and its confidence interval.**\n",
        "\n",
        "**Ans:**\n",
        "\n",
        "* **Explanation of applying the Central Limit Theorem (CLT) for average sales estimation:**\n",
        "\n",
        "The Central Limit Theorem (CLT) is crucial here even though we only have a sample daily_sales list provided, representing a hypothetical portion of the full \"2 years of daily sales data\" mentioned in the problem description. Assuming that the daily_sales provided is a sample of the full 2 years of data, or we can treat this sample as representative for demonstrating the concept.\n",
        "\n",
        "**1. Population vs. Sample**: The \"2 years of daily sales data\" represents our population of interest. The provided\n",
        "\n",
        "`daily_sales` list is a sample from this population.\n",
        "\n",
        "\n",
        "**2. CLT Application**: The CLT states that, regardless of the underlying distribution of the daily sales data (which might not be normal), the distribution of sample means taken from this population will tend towards a normal distribution as the sample size increases.  For calculating the confidence interval for the population mean, the CLT allows us to use the normal distribution (or t-distribution for smaller sample sizes and unknown population standard deviation).\n",
        "\n",
        "**3. Estimating Population Mean**: Our goal is to estimate the true average daily sales for the company (the population mean, mu). We will use the sample mean (barx) calculated from the `daily_sales` data as our best point estimate for\n",
        "mu.\n",
        "\n",
        "\n",
        "**4. Confidence Interval Construction**: A 95% confidence interval provides a range of values within which we are 95% confident the true population mean lies.  To construct this interval, we need:\n",
        "\n",
        "* The sample mean (barx).\n",
        "\n",
        "* The standard error of the mean, which is fracssqrtn, where s is the sample standard deviation and n is the sample size.\n",
        "\n",
        "* A critical value (Z-score for large samples or t-score for smaller samples with unknown population standard deviation) corresponding to the desired confidence level (95%). For a 95% confidence interval, the critical Z-value is approximately 1.96. If the sample size is small **( $ n \\ < 30 $)**, it's more appropriate to use the t-distribution, which accounts for the additional uncertainty. Given the provided `daily_sales` list has 20 entries, it's a smaller sample, so the t-distribution is more appropriate.\n",
        "\n",
        "\n",
        "\n",
        "\n",
        "**Python code to compute the mean sales and its confidence interval**:"
      ],
      "metadata": {
        "id": "ueDh0sbwtdmE"
      }
    },
    {
      "cell_type": "code",
      "source": [
        "import numpy as np\n",
        "import scipy.stats as stats\n",
        "# Provided daily sales data\n",
        "daily_sales = [220, 245, 210, 265, 230, 250, 260, 275, 240, 255, 235, 260, 245, 250, 225, 270, 265, 255, 250, 260]\n",
        "\n",
        "# Convert the list to a NumPy array for easier calculations\n",
        "mean_sales = np.mean(daily_sales)\n",
        "\n",
        "# Compute the mean sales\n",
        "mean_sales = np.mean(daily_sales)\n",
        "\n",
        "# Compute the standard deviation of the sales data (sample standard deviation)\n",
        "std_dev_sales = np.std(daily_sales, ddof=1)  #ddof=1 for sample standard deviation\n",
        "\n",
        "# Get the sample size\n",
        "n = len(daily_sales) # Corrected variable name\n",
        "\n",
        "# Define the confidence level\n",
        "confidence_level = 0.95\n",
        "\n",
        "# Calculate the standard error of the mean\n",
        "standard_error = std_dev_sales / np.sqrt(n)\n",
        "\n",
        "# Calculate the t-critical value for a 95% confidence level\n",
        "# Degrees of freedom (df) = n - 1\n",
        "df = n - 1\n",
        "t_critical = stats.t.ppf((1 + confidence_level) / 2, df=df)\n",
        "\n",
        "# Calculate the margin of error\n",
        "margin_of_error = t_critical * standard_error\n",
        "\n",
        "# Calculate the confidence interval\n",
        "lower_bound = mean_sales - margin_of_error\n",
        "upper_bound = mean_sales + margin_of_error\n",
        "\n",
        "print(f\"Daily Sales Data: {daily_sales}\")\n",
        "print(f\"\\nComputed Mean Sales: {mean_sales:.2f}\")\n",
        "print(f\"Standard Deviation of Sales: {std_dev_sales:.2f}\")\n",
        "print(f\"Sample Size (n): {n}\")\n",
        "print(f\"Degrees of Freedom (df): {df}\")\n",
        "print(f\"t-critical value for {confidence_level*100}% CI: {t_critical:.3f}\")\n",
        "print(f\"Standard Error of the Mean: {standard_error:.2f}\")\n",
        "print(f\"Confidence Level: {confidence_level * 100}%\")\n",
        "print(f\"Margin of Error: {margin_of_error:.2f}\")\n",
        "print(f\"95% Confidence Interval: ({lower_bound:.2f}, {upper_bound:.2f})\") # Added missing parenthesis"
      ],
      "metadata": {
        "colab": {
          "base_uri": "https://localhost:8080/"
        },
        "id": "ex7p16cUkeqI",
        "outputId": "e659c8a1-069e-4a75-8bac-30fe721f3525"
      },
      "execution_count": 5,
      "outputs": [
        {
          "output_type": "stream",
          "name": "stdout",
          "text": [
            "Daily Sales Data: [220, 245, 210, 265, 230, 250, 260, 275, 240, 255, 235, 260, 245, 250, 225, 270, 265, 255, 250, 260]\n",
            "\n",
            "Computed Mean Sales: 248.25\n",
            "Standard Deviation of Sales: 17.27\n",
            "Sample Size (n): 20\n",
            "Degrees of Freedom (df): 19\n",
            "t-critical value for 95.0% CI: 2.093\n",
            "Standard Error of the Mean: 3.86\n",
            "Confidence Level: 95.0%\n",
            "Margin of Error: 8.08\n",
            "95% Confidence Interval: (240.17, 256.33)\n"
          ]
        }
      ]
    }
  ]
}